import pandas as pd
import psycopg2
import matplotlib.pyplot as plt
import numpy as np
from datetime import datetime 
from matplotlib.colors import rgb2hex

try:
    conn = psycopg2.connect("dbname='fantasysheets' user='postgres' host='viaduct.proxy.rlwy.net' password='WIKrjPIYtqCWApMIXculsqbMIQcGotEg' port='38391'")
except:
    print("I am unable to connect to the database")

# Execute the query and fetch data
cur = conn.cursor() 

query = """
with floor_ceiling as (
SELECT 
  hero_id,
  PERCENTILE_CONT(0.25) WITHIN GROUP (ORDER BY seven_day_fantasy_score) AS floor_score,
  PERCENTILE_CONT(0.90) WITHIN GROUP (ORDER BY seven_day_fantasy_score) AS ceiling_score
FROM (
  SELECT hero_id,start_datetime::date as start_date, avg(seven_day_fantasy_score) as seven_day_fantasy_score
  FROM flatten.GET_HEROS_WITH_STATS_SNAPSHOT
  WHERE start_datetime >= NOW() AT TIME ZONE 'UTC' - INTERVAL '28 days'
  and is_deleted = 0
  GROUP BY 1,2
) combined_data
GROUP BY hero_id
)
, RankedTrades as (
    SELECT
        lt.hero_rarity_id,
        lt.hero_handle,
        lt.hero_id,
        lt.price,
        lt.rarity,
        lt.timestamp,
        lt.db_updated_cst,
        ROW_NUMBER() OVER (PARTITION BY lt.hero_rarity_id ORDER BY lt.timestamp DESC) AS rn,
        COUNT(*) OVER (PARTITION BY lt.hero_rarity_id) AS total_count
    FROM  flatten.get_hero_last_trades lt
    WHERE  1=1
        and lt.rarity  in ('common','rare')
        and lt.price > .0035 --lowest  floor, avoid bad sales data
       AND timestamp >= NOW() AT TIME ZONE 'UTC' - INTERVAL '14 days'
)
SELECT 
        trades.rarity,
        trades.hero_handle,
        floor_score,
        ceiling_score,
        ROUND(AVG(CASE WHEN rn IN (1,2,3) THEN price ELSE NULL END),5) AS last_three_avg,
        ROUND(AVG(CASE WHEN rn IN (3,4,5) THEN price ELSE NULL END),5) AS prior_three_avg,    
        ROUND(MIN(case when rn in (1)  then PRICE else null end),5) as last_price,
        MIN(price) as min_price,
        ROUND(PERCENTILE_CONT(.03) WITHIN GROUP(ORDER BY price)::NUMERIC,5) 30pct_price,
        MAX(price) AS max_price,
        MAX(trades.timestamp) AS last_trade,
        MAX(trades.db_updated_cst) AS db_updated_cst
    FROM RankedTrades trades
    left join floor_ceiling
    on trades.hero_id = floor_ceiling.hero_id
    where rarity in ('rare','common')
    and timestamp >= NOW() AT TIME ZONE 'UTC' - INTERVAL '14 days'
    GROUP BY 
        1,2,3,4
"""

cur.execute(query)
data = cur.fetchall()

# Create DataFrame with column names
columns = ['rarity', 'hero_handle', 'floor_score', 'ceiling_score', 
           'last_three_avg', 'prior_three_avg', 'last_price', 
           'min_price', 'thirty_percentile', 'max_price', 
           'last_trade', 'db_updated_cst']

df = pd.DataFrame(data, columns=columns)

# Display the DataFrame
print(df)